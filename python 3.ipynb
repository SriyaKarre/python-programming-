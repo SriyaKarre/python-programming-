{
 "cells": [
  {
   "cell_type": "markdown",
   "id": "51dad452",
   "metadata": {},
   "source": [
    "1.Write a Python program to check if a Number is Positive, Negative or Zero ?"
   ]
  },
  {
   "cell_type": "code",
   "execution_count": 1,
   "id": "daedecd5",
   "metadata": {},
   "outputs": [
    {
     "name": "stdout",
     "output_type": "stream",
     "text": [
      "Enter a number: -76\n",
      "-76 is a Negative number\n"
     ]
    }
   ],
   "source": [
    "def checkNumber(num):\n",
    "    if num > 0:\n",
    "        print('{} is a Postive number'.format(num))\n",
    "    elif num < 0:\n",
    "        print('{} is a Negative number'.format(num))\n",
    "    else:\n",
    "        print(\"Number is Zero\")\n",
    "        \n",
    "num = int(input(\"Enter a number: \"))\n",
    "checkNumber(num)"
   ]
  },
  {
   "cell_type": "markdown",
   "id": "00761a83",
   "metadata": {},
   "source": [
    "2.Write a Python program to check if a Number is Odd or Even ?"
   ]
  },
  {
   "cell_type": "code",
   "execution_count": 2,
   "id": "304186cb",
   "metadata": {},
   "outputs": [
    {
     "name": "stdout",
     "output_type": "stream",
     "text": [
      "Enter a number: 22\n",
      "22 is a Even number\n"
     ]
    }
   ],
   "source": [
    "def checkNumber(num):\n",
    "    if num%2 == 0:\n",
    "        print('{} is a Even number'.format(num))\n",
    "    else:\n",
    "        print('{} is a Odd number'.format(num))\n",
    "        \n",
    "num = int(input(\"Enter a number: \"))\n",
    "checkNumber(num)"
   ]
  },
  {
   "cell_type": "markdown",
   "id": "e95656f3",
   "metadata": {},
   "source": [
    "3.Write a Python program to check Leap Year ?"
   ]
  },
  {
   "cell_type": "code",
   "execution_count": null,
   "id": "dcf0503e",
   "metadata": {},
   "outputs": [],
   "source": [
    "def checkYear(year):\n",
    "    if (year%4 == 0 and year%100 != 0 or year%400 == 0):\n",
    "        print(f'{year} is a Leap year')\n",
    "    else:\n",
    "        print(f'{year} is not a Leap year')\n",
    "\n",
    "year = int(input(\"Enter year: \"))\n",
    "checkYear(year)"
   ]
  },
  {
   "cell_type": "code",
   "execution_count": null,
   "id": "e87776ad",
   "metadata": {},
   "outputs": [],
   "source": []
  }
 ],
 "metadata": {
  "kernelspec": {
   "display_name": "Python 3 (ipykernel)",
   "language": "python",
   "name": "python3"
  },
  "language_info": {
   "codemirror_mode": {
    "name": "ipython",
    "version": 3
   },
   "file_extension": ".py",
   "mimetype": "text/x-python",
   "name": "python",
   "nbconvert_exporter": "python",
   "pygments_lexer": "ipython3",
   "version": "3.9.7"
  }
 },
 "nbformat": 4,
 "nbformat_minor": 5
}
